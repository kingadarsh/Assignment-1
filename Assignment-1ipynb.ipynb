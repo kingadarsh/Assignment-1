{
 "cells": [
  {
   "cell_type": "code",
   "execution_count": 2,
   "id": "71e6657d-3783-48c5-bd73-1aeed36be460",
   "metadata": {},
   "outputs": [],
   "source": [
    "#Q1. Create one variable containing following type of data:\n",
    "#(i) string\n",
    "#(ii) list\n",
    "#(iii) float\n",
    "#(iv) tuple\n"
   ]
  },
  {
   "cell_type": "code",
   "execution_count": 3,
   "id": "ade9938f-edc3-4614-b567-34d6388257ff",
   "metadata": {},
   "outputs": [],
   "source": [
    "s=\"String\""
   ]
  },
  {
   "cell_type": "code",
   "execution_count": 4,
   "id": "19e3003c-075f-4a3c-98bd-3a577e41be84",
   "metadata": {},
   "outputs": [],
   "source": [
    "l=[1,2,3,4,5.6,\"This is list\"]"
   ]
  },
  {
   "cell_type": "code",
   "execution_count": 5,
   "id": "e9a272bf-8292-4724-89b3-ad1abf51f692",
   "metadata": {},
   "outputs": [],
   "source": [
    "f=2.48"
   ]
  },
  {
   "cell_type": "code",
   "execution_count": 26,
   "id": "be4b4798-1c37-4c0e-9585-5cd9781f55da",
   "metadata": {},
   "outputs": [],
   "source": [
    "t=(1,2,3,4,5)"
   ]
  },
  {
   "cell_type": "code",
   "execution_count": 8,
   "id": "a47337df-6900-4b1b-850d-8847802fb31b",
   "metadata": {},
   "outputs": [],
   "source": [
    "#Q2. Given are some following variables containing data:\n",
    "#(i) var1 = ‘ ‘\n",
    "#(ii) var2 = ‘[ DS , ML , Python]’\n",
    "#(iii) var3 = [ ‘DS’ , ’ML’ , ‘Python’ ]\n",
    "#(iv) .\n",
    "#What will be the data type of the above given variable.\n"
   ]
  },
  {
   "cell_type": "code",
   "execution_count": 10,
   "id": "a0f20a57-5d6f-4ef4-a91b-eb42d5387e2b",
   "metadata": {},
   "outputs": [],
   "source": [
    "var1=' '"
   ]
  },
  {
   "cell_type": "code",
   "execution_count": 15,
   "id": "4bc97732-1a96-4be6-940f-ce5eb4261536",
   "metadata": {},
   "outputs": [],
   "source": [
    "var2 = '[ DS , ML , Python]'"
   ]
  },
  {
   "cell_type": "code",
   "execution_count": 18,
   "id": "7e091777-652c-4f89-8bf2-0ac7db3aed97",
   "metadata": {},
   "outputs": [],
   "source": [
    "var3 = [ 'DS' , 'ML' , 'Python' ]"
   ]
  },
  {
   "cell_type": "code",
   "execution_count": 19,
   "id": "f1b87001-f164-4f79-b5d6-f23a1e8b7698",
   "metadata": {},
   "outputs": [],
   "source": [
    "var4 = 1\n"
   ]
  },
  {
   "cell_type": "code",
   "execution_count": 20,
   "id": "91461193-a0c2-48e4-b107-5f8e81cd980a",
   "metadata": {},
   "outputs": [
    {
     "data": {
      "text/plain": [
       "str"
      ]
     },
     "execution_count": 20,
     "metadata": {},
     "output_type": "execute_result"
    }
   ],
   "source": [
    "type(var1)"
   ]
  },
  {
   "cell_type": "code",
   "execution_count": 21,
   "id": "62cf3633-fdb0-435c-9853-a7fe5505a0f8",
   "metadata": {},
   "outputs": [
    {
     "data": {
      "text/plain": [
       "str"
      ]
     },
     "execution_count": 21,
     "metadata": {},
     "output_type": "execute_result"
    }
   ],
   "source": [
    "type(var2)"
   ]
  },
  {
   "cell_type": "code",
   "execution_count": 22,
   "id": "3067bcd8-a45b-4205-9a5b-0ca7a96fa6e7",
   "metadata": {},
   "outputs": [
    {
     "data": {
      "text/plain": [
       "list"
      ]
     },
     "execution_count": 22,
     "metadata": {},
     "output_type": "execute_result"
    }
   ],
   "source": [
    "type(var3)"
   ]
  },
  {
   "cell_type": "code",
   "execution_count": 23,
   "id": "0eb9a3fd-8cea-4e7b-9a13-02a431b3dddc",
   "metadata": {},
   "outputs": [
    {
     "data": {
      "text/plain": [
       "int"
      ]
     },
     "execution_count": 23,
     "metadata": {},
     "output_type": "execute_result"
    }
   ],
   "source": [
    "type(var4)"
   ]
  },
  {
   "cell_type": "code",
   "execution_count": null,
   "id": "d87d9c66-5f93-4f9a-a788-17603d7d0141",
   "metadata": {},
   "outputs": [],
   "source": [
    "\n"
   ]
  },
  {
   "cell_type": "code",
   "execution_count": 25,
   "id": "6ecc85f2-9934-4c74-9fab-77abd2f8a294",
   "metadata": {},
   "outputs": [],
   "source": [
    "#Q3. Explain the use of the following operators using an example:\n",
    "#(i) /\n",
    "#(ii) %\n",
    "#(iii) //\n",
    "#(iv) **"
   ]
  },
  {
   "cell_type": "code",
   "execution_count": 30,
   "id": "8190f712-25d6-4e54-ba5f-7e72ac3a95ae",
   "metadata": {},
   "outputs": [
    {
     "data": {
      "text/plain": [
       "3.0"
      ]
     },
     "execution_count": 30,
     "metadata": {},
     "output_type": "execute_result"
    }
   ],
   "source": [
    "(6/2)"
   ]
  },
  {
   "cell_type": "code",
   "execution_count": 31,
   "id": "a5acc094-7c86-4d5b-8892-5b3d32ba19ed",
   "metadata": {},
   "outputs": [
    {
     "data": {
      "text/plain": [
       "1"
      ]
     },
     "execution_count": 31,
     "metadata": {},
     "output_type": "execute_result"
    }
   ],
   "source": [
    "7%2"
   ]
  },
  {
   "cell_type": "code",
   "execution_count": 32,
   "id": "7514ebfb-444a-4a90-8edc-0ff38c611021",
   "metadata": {},
   "outputs": [
    {
     "data": {
      "text/plain": [
       "3"
      ]
     },
     "execution_count": 32,
     "metadata": {},
     "output_type": "execute_result"
    }
   ],
   "source": [
    "7//2"
   ]
  },
  {
   "cell_type": "code",
   "execution_count": 33,
   "id": "4009530f-2470-4db7-97b0-d60e6149c0ed",
   "metadata": {},
   "outputs": [
    {
     "data": {
      "text/plain": [
       "16"
      ]
     },
     "execution_count": 33,
     "metadata": {},
     "output_type": "execute_result"
    }
   ],
   "source": [
    "2**4"
   ]
  },
  {
   "cell_type": "code",
   "execution_count": 34,
   "id": "f3680284-76f3-46f4-acfd-e291ddff806b",
   "metadata": {},
   "outputs": [],
   "source": [
    "#Q4. Create a list of length 10 of your choice containing multiple types of data. Using for loop print the\n",
    "#element and its data type."
   ]
  },
  {
   "cell_type": "code",
   "execution_count": 35,
   "id": "423de56b-19b5-4aef-92f3-f254dcc1fa78",
   "metadata": {},
   "outputs": [],
   "source": [
    "l=[1,2,3,4,5.65,\"Adarsh\"]"
   ]
  },
  {
   "cell_type": "code",
   "execution_count": 37,
   "id": "d9c41b2b-794c-42dc-b216-e9b2cda73918",
   "metadata": {},
   "outputs": [
    {
     "name": "stdout",
     "output_type": "stream",
     "text": [
      "1\n",
      "<class 'int'>\n",
      "2\n",
      "<class 'int'>\n",
      "3\n",
      "<class 'int'>\n",
      "4\n",
      "<class 'int'>\n",
      "5.65\n",
      "<class 'float'>\n",
      "Adarsh\n",
      "<class 'str'>\n"
     ]
    }
   ],
   "source": [
    "for i in l:\n",
    "    print(i)\n",
    "    print(type(i))"
   ]
  },
  {
   "cell_type": "code",
   "execution_count": null,
   "id": "cc078b91-e08d-4f6c-84e5-84dad2b14303",
   "metadata": {},
   "outputs": [],
   "source": [
    "#Q5. Using a while loop, verify if the number A is purely divisible by number B and if so then how many\n",
    "#times it can be divisible."
   ]
  },
  {
   "cell_type": "code",
   "execution_count": 52,
   "id": "2e199c02-8192-4048-9c76-fdffa2ea00f5",
   "metadata": {},
   "outputs": [
    {
     "name": "stdout",
     "output_type": "stream",
     "text": [
      "0 is divisible by 5 20 times.\n"
     ]
    }
   ],
   "source": [
    "A = 100\n",
    "B = 5\n",
    "count = 0\n",
    "\n",
    "while A >= B:\n",
    "    A = A-B\n",
    "    count += 1\n",
    "\n",
    "print(f\"{A} is divisible by {B} {count} times.\")\n"
   ]
  },
  {
   "cell_type": "code",
   "execution_count": null,
   "id": "e58406aa-18c5-4bc1-878d-7923598e1241",
   "metadata": {},
   "outputs": [],
   "source": [
    "#Q6. Create a list containing 25 int type data. Using for loop and if-else condition print if the element is\n",
    "# divisible by 3 or not."
   ]
  },
  {
   "cell_type": "code",
   "execution_count": 57,
   "id": "9e122952-4335-450b-8a9e-21e271a163fe",
   "metadata": {},
   "outputs": [
    {
     "name": "stdout",
     "output_type": "stream",
     "text": [
      "0 Divisible by three\n",
      "1 is not divisible by three\n",
      "2 is not divisible by three\n",
      "3 Divisible by three\n",
      "4 is not divisible by three\n",
      "5 is not divisible by three\n",
      "6 Divisible by three\n",
      "7 is not divisible by three\n",
      "8 is not divisible by three\n",
      "9 Divisible by three\n",
      "10 is not divisible by three\n",
      "11 is not divisible by three\n",
      "12 Divisible by three\n",
      "13 is not divisible by three\n",
      "14 is not divisible by three\n",
      "15 Divisible by three\n",
      "16 is not divisible by three\n",
      "17 is not divisible by three\n",
      "18 Divisible by three\n",
      "19 is not divisible by three\n",
      "20 is not divisible by three\n",
      "21 Divisible by three\n",
      "22 is not divisible by three\n",
      "23 is not divisible by three\n",
      "24 Divisible by three\n"
     ]
    }
   ],
   "source": [
    "l=list(range(25))\n",
    "for i in l:\n",
    "    if i%3==0:\n",
    "        print(f\"{i} Divisible by three\")\n",
    "    else :\n",
    "        print(f\"{i} is not divisible by three\")"
   ]
  },
  {
   "cell_type": "code",
   "execution_count": null,
   "id": "16b7685f-e06a-41e9-b04b-8849b0102ba1",
   "metadata": {},
   "outputs": [],
   "source": [
    "\n"
   ]
  },
  {
   "cell_type": "code",
   "execution_count": null,
   "id": "acc014dd-81b5-493c-92bf-86e1ddad7e47",
   "metadata": {},
   "outputs": [],
   "source": [
    "#Q7. What do you understand about mutable and immutable data types? Give examples for both showing\n",
    "# this property."
   ]
  },
  {
   "cell_type": "code",
   "execution_count": null,
   "id": "f3741f6c-ee51-416f-91f6-cd9a76cc06d3",
   "metadata": {},
   "outputs": [],
   "source": [
    "mutable data types can be modified at any instance of the code but that does not holds for immutable data t"
   ]
  },
  {
   "cell_type": "code",
   "execution_count": null,
   "id": "f8e27d72-41bc-448e-a8ad-28e4222d7297",
   "metadata": {},
   "outputs": [],
   "source": []
  }
 ],
 "metadata": {
  "kernelspec": {
   "display_name": "Python 3 (ipykernel)",
   "language": "python",
   "name": "python3"
  },
  "language_info": {
   "codemirror_mode": {
    "name": "ipython",
    "version": 3
   },
   "file_extension": ".py",
   "mimetype": "text/x-python",
   "name": "python",
   "nbconvert_exporter": "python",
   "pygments_lexer": "ipython3",
   "version": "3.10.8"
  }
 },
 "nbformat": 4,
 "nbformat_minor": 5
}
