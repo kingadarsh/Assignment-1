{
 "cells": [
  {
   "cell_type": "markdown",
   "id": "79cc8036-19c3-4a4e-84be-42c94bbf0385",
   "metadata": {},
   "source": [
    "# Q1. How do you comment code in Python? What are the different types of comments?"
   ]
  },
  {
   "cell_type": "raw",
   "id": "40d73298-baa9-4466-b754-5c5e7be02fef",
   "metadata": {},
   "source": [
    "There are majorly 3 types of comments in python -:\n",
    "1. Single Line Comment using (#)\n",
    "2. Docstrings: \n",
    "    These are string literals enclosed in triple quotes (\"\"\"Docstring content\"\"\" or '''Docstring content''') that appear as the first statement in a module, class, function, or method. They are used to document the purpose and usage of code blocks and can be accessed programmatically. \n",
    "3. Triple-quoted Strings as Comments: \n",
    "    When a triple-quoted string is not assigned to a variable or used as a docstring in a specific location, it functions as a multi-line comment because the Python interpreter ignores it.\n"
   ]
  },
  {
   "cell_type": "markdown",
   "id": "7630b714-6479-4e74-9937-54607b9903fb",
   "metadata": {},
   "source": [
    "# Q2. What are variables in Python? How do you declare and assign values to variables?"
   ]
  },
  {
   "cell_type": "raw",
   "id": "e8f4f006-b76e-4918-9450-2be7bdf50f8a",
   "metadata": {},
   "source": [
    "Variable in python are the placeholder that points to the memory space where any data is stored in the memory.We can use variables to refer to the data stored in the memory. \n",
    "\n",
    "To assign a value to a integer variable int_var=10\n",
    "To assign a value to a Boolean variable Bool_var=True\n",
    "To assign a value to a string variable String_var=\"String is this\"\n",
    "To assign a value to a complex variable Complex_var=5j+1\n",
    "To assign a value to a list variable List_var=[1,2,3,4]\n",
    "To assign a value to a Tuple variable Tuple_var=(1,2,3)\n",
    "To assign a value to a Set variable set_var={1,2,3,4,5}\n",
    "To assign a value to a Dictionary variable Dictionary_var={\"a\":1,\"b\":2}\n"
   ]
  },
  {
   "cell_type": "markdown",
   "id": "3c709a15-4e49-4c1d-949b-662cbf3712b1",
   "metadata": {},
   "source": [
    "# Q4. How do you write and execute a Python script from the command line?"
   ]
  },
  {
   "cell_type": "raw",
   "id": "7709cfe7-357b-41fe-af0f-a007fdb0aee4",
   "metadata": {},
   "source": [
    "To write and execute a python script we first need to create a file with \".py\" extension and then after writing the relevant code we need to open the terminal and then type in the command python <filename>.py and hit enter."
   ]
  },
  {
   "cell_type": "markdown",
   "id": "29413fd8-92f0-47c9-9601-8530e676f09d",
   "metadata": {},
   "source": [
    "# Q5. Given a list my_list = [1, 2, 3, 4, 5], write the code to slice the list and obtain the sub-list [2, 3]."
   ]
  },
  {
   "cell_type": "code",
   "execution_count": 18,
   "id": "70687903-db71-44eb-a605-64953046192f",
   "metadata": {},
   "outputs": [
    {
     "name": "stdout",
     "output_type": "stream",
     "text": [
      "[2, 3]\n"
     ]
    }
   ],
   "source": [
    "my_list = [1, 2, 3, 4, 5]\n",
    "l2=my_list[1:3]\n",
    "print(l2)"
   ]
  },
  {
   "cell_type": "markdown",
   "id": "12588f06-bce4-42c0-b358-abf07187d676",
   "metadata": {},
   "source": [
    "# Q6. What is a complex number in mathematics, and how is it represented in Python?"
   ]
  },
  {
   "cell_type": "raw",
   "id": "0f9c825e-252c-49dd-b2eb-ceba4979c095",
   "metadata": {},
   "source": [
    "A complex number is a type of number which has a real as well as an imaginary part. \n",
    "A complex number in python can be created as -:\n",
    "    aj+b\n",
    "where :\n",
    "a is a number \n",
    "j is a used to denote the iota .\n",
    "b is a number \n",
    "Here,\n",
    " aj represents a imaginary part. Where j is a special number defined as the square root of -1. It allows us to work with the square roots of negative numbers. \n",
    "\n",
    "and b represents a real number such as any ordinary number 1,2,3 etc...\n",
    "\n",
    "To assign a complex number value to a variable in python we \n",
    "complex_number=3j+5\n",
    "\n",
    "Note - : Use only 'j' while creating a complex number it is not a reserved keyword but a convention as well as python parser recorgnizes a complex number only when j is the prefix and attached to a number.\n"
   ]
  },
  {
   "cell_type": "markdown",
   "id": "b87a77e1-013a-49db-96a2-1acc8e764921",
   "metadata": {},
   "source": [
    "# Q7. What is the correct way to declare a variable named age and assign the value 25 to it?\n"
   ]
  },
  {
   "cell_type": "raw",
   "id": "e4b70343-c3f7-4d80-ba1b-3ac40e296ae3",
   "metadata": {},
   "source": [
    "In Python, variables are created by assigning a value using the = operator.\n",
    "The correct way to declare a variable named age and assign it the value 25 is:\n",
    "\n",
    "age = 25\n",
    "\n",
    "\n",
    "Variable naming conventions in Python:\n",
    "\n",
    "1. A variable must not be a reserved keyword (e.g., if, for, class).\n",
    "\n",
    "2. A variable must begin with a letter (A–Z or a–z) or an underscore _.\n",
    "\n",
    "3. It cannot begin with a number or special character.\n",
    "\n",
    "4. Variable names are case-sensitive (Age, age, and AGE are different)."
   ]
  },
  {
   "cell_type": "markdown",
   "id": "0da1b21c-fc41-450f-bff1-26111462f5fe",
   "metadata": {},
   "source": [
    "# Q8. Declare a variable named price and assign the value 9.99 to it. What data type does this variable belong to?"
   ]
  },
  {
   "cell_type": "raw",
   "id": "6c08d833-eca3-4acc-8ff5-c21caf3c6b3a",
   "metadata": {},
   "source": [
    "price = 9.99\n",
    "\n",
    "Here, price is a variable and the value 9.99 is a float literal.\n",
    "In Python, the float data type is used to represent real numbers with decimal points.\n",
    "\n",
    "Example:\n",
    "\n",
    "pi = 3.14\n",
    "temperature = -7.5\n",
    "\n",
    "\n",
    "Floats are useful for representing decimal values, fractional results, or continuous quantities."
   ]
  },
  {
   "cell_type": "markdown",
   "id": "37ffad06-6973-4187-8cc4-9bb72447b4b4",
   "metadata": {},
   "source": [
    "# Q9. Create a variable named name and assign your full name to it as a string. How would you print the value of this variable?"
   ]
  },
  {
   "cell_type": "code",
   "execution_count": 45,
   "id": "185e4f74-94eb-4f9e-95a5-645ce98c091c",
   "metadata": {},
   "outputs": [
    {
     "name": "stdout",
     "output_type": "stream",
     "text": [
      "Adarsh Kathriya\n"
     ]
    }
   ],
   "source": [
    "name=\"Adarsh Kathriya\"\n",
    "print(name)\n"
   ]
  },
  {
   "cell_type": "markdown",
   "id": "3c3d2a7b-c394-4b00-810e-521101b802ad",
   "metadata": {},
   "source": [
    "# Q10. Given the string \"Hello, World!\", extract the substring \"World\".\n"
   ]
  },
  {
   "cell_type": "code",
   "execution_count": 68,
   "id": "d6461a6a-8354-4ecf-bff2-45631e4e1103",
   "metadata": {},
   "outputs": [
    {
     "name": "stdout",
     "output_type": "stream",
     "text": [
      "World\n"
     ]
    }
   ],
   "source": [
    "str=\"Hello, World!\"\n",
    "ind=str.find(\"World\")\n",
    "s=str[ind:ind+5]\n",
    "print(s)"
   ]
  },
  {
   "cell_type": "markdown",
   "id": "c68bf45a-0f73-418f-b337-6093f38867dc",
   "metadata": {},
   "source": [
    "# Q11. Create a variable named \"is_student\" and assign it a boolean value indicating whether you are currently a student or not."
   ]
  },
  {
   "cell_type": "code",
   "execution_count": 71,
   "id": "2dc409bf-6f82-4a35-b496-a86902f68718",
   "metadata": {},
   "outputs": [],
   "source": [
    "is_student=True"
   ]
  },
  {
   "cell_type": "code",
   "execution_count": null,
   "id": "ded53b05-0791-4fd8-9bda-90b79cab7fe1",
   "metadata": {},
   "outputs": [],
   "source": []
  }
 ],
 "metadata": {
  "kernelspec": {
   "display_name": "Python 3 (ipykernel)",
   "language": "python",
   "name": "python3"
  },
  "language_info": {
   "codemirror_mode": {
    "name": "ipython",
    "version": 3
   },
   "file_extension": ".py",
   "mimetype": "text/x-python",
   "name": "python",
   "nbconvert_exporter": "python",
   "pygments_lexer": "ipython3",
   "version": "3.12.4"
  }
 },
 "nbformat": 4,
 "nbformat_minor": 5
}
